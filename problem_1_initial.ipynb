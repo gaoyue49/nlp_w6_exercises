{
  "nbformat": 4,
  "nbformat_minor": 0,
  "metadata": {
    "colab": {
      "provenance": []
    },
    "kernelspec": {
      "name": "python3",
      "display_name": "Python 3"
    },
    "language_info": {
      "name": "python"
    }
  },
  "cells": [
    {
      "cell_type": "code",
      "execution_count": 1,
      "metadata": {
        "colab": {
          "base_uri": "https://localhost:8080/"
        },
        "id": "tWXNeXEzO99S",
        "outputId": "3f929d44-93fc-4f36-e88e-d81d1072e527"
      },
      "outputs": [
        {
          "output_type": "stream",
          "name": "stdout",
          "text": [
            "Requirement already satisfied: nltk in /usr/local/lib/python3.11/dist-packages (3.9.1)\n",
            "Requirement already satisfied: click in /usr/local/lib/python3.11/dist-packages (from nltk) (8.1.8)\n",
            "Requirement already satisfied: joblib in /usr/local/lib/python3.11/dist-packages (from nltk) (1.4.2)\n",
            "Requirement already satisfied: regex>=2021.8.3 in /usr/local/lib/python3.11/dist-packages (from nltk) (2024.11.6)\n",
            "Requirement already satisfied: tqdm in /usr/local/lib/python3.11/dist-packages (from nltk) (4.67.1)\n"
          ]
        },
        {
          "output_type": "stream",
          "name": "stderr",
          "text": [
            "[nltk_data] Downloading package punkt to /root/nltk_data...\n",
            "[nltk_data]   Unzipping tokenizers/punkt.zip.\n",
            "[nltk_data] Downloading package punkt_tab to /root/nltk_data...\n",
            "[nltk_data]   Unzipping tokenizers/punkt_tab.zip.\n"
          ]
        }
      ],
      "source": [
        "# 의존성 설치\n",
        "!pip install nltk\n",
        "\n",
        "import numpy as np\n",
        "from nltk.tokenize import word_tokenize\n",
        "import nltk\n",
        "\n",
        "# NLTK 데이터 다운로드\n",
        "nltk.download('punkt')\n",
        "nltk.download('punkt_tab')\n",
        "\n",
        "# 말뭉치 정의\n",
        "corpus = [\n",
        "    \"the quick brown fox jumps over the lazy dog\",\n",
        "    \"the lazy dog sleeps while the fox jumps\",\n",
        "    \"quick foxes climb steep hills\"\n",
        "]\n",
        "\n",
        "# 토큰화\n",
        "tokenized_corpus = [word_tokenize(s.lower()) for s in corpus]\n",
        "vocab = sorted(set(word for s in tokenized_corpus for word in s))\n",
        "word2idx = {word: idx for idx, word in enumerate(vocab)}\n",
        "\n",
        "# 동시출현 행렬 생성 함수\n",
        "def build_cooc_matrix(tokenized_corpus, vocab, window_size):\n",
        "    cooc_matrix = np.zeros((len(vocab), len(vocab)))\n",
        "    for sentence in tokenized_corpus:\n",
        "        for i, word in enumerate(sentence):\n",
        "            start = max(0, i - window_size)\n",
        "            end = min(len(sentence), i + window_size + 1)\n",
        "            for j in range(start, end):\n",
        "                if i != j:\n",
        "                    cooc_matrix[word2idx[word]][word2idx[sentence[j]]] += 1\n",
        "    return cooc_matrix\n",
        "\n",
        "# 행렬 생성\n",
        "matrices = {}\n",
        "for ws in [1, 3, 5]:\n",
        "    matrices[ws] = build_cooc_matrix(tokenized_corpus, vocab, ws)"
      ]
    }
  ]
}