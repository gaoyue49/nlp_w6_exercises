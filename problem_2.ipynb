{
  "nbformat": 4,
  "nbformat_minor": 0,
  "metadata": {
    "colab": {
      "provenance": [],
      "gpuType": "T4"
    },
    "kernelspec": {
      "name": "python3",
      "display_name": "Python 3"
    },
    "language_info": {
      "name": "python"
    },
    "accelerator": "GPU"
  },
  "cells": [
    {
      "cell_type": "code",
      "source": [
        "import numpy as np\n",
        "from collections import defaultdict\n",
        "from pprint import pprint\n",
        "\n",
        "corpus = \"the quick brown fox jumps over the lazy dog\".split()\n",
        "window_size = 3\n",
        "vocab = list(set(corpus))\n",
        "word_to_idx = {word: idx for idx, word in enumerate(vocab)}\n",
        "co_occurrence_matrix = np.zeros((len(vocab), len(vocab)))\n",
        "\n",
        "def compute_weighted_cooc(corpus, window_size, weight_func):\n",
        "    matrix = np.zeros((len(vocab), len(vocab)))\n",
        "    for i, word in enumerate(corpus):\n",
        "        for j in range(1, window_size + 1):\n",
        "            if i - j >= 0:\n",
        "                left_word = corpus[i - j]\n",
        "                matrix[word_to_idx[word], word_to_idx[left_word]] += weight_func(j)\n",
        "            if i + j < len(corpus):\n",
        "                right_word = corpus[i + j]\n",
        "                matrix[word_to_idx[word], word_to_idx[right_word]] += weight_func(j)\n",
        "    return matrix\n"
      ],
      "metadata": {
        "id": "2H1oc_ZPa6g9"
      },
      "execution_count": 10,
      "outputs": []
    }
  ]
}