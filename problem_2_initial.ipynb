{
  "nbformat": 4,
  "nbformat_minor": 0,
  "metadata": {
    "colab": {
      "provenance": [],
      "gpuType": "T4"
    },
    "kernelspec": {
      "name": "python3",
      "display_name": "Python 3"
    },
    "language_info": {
      "name": "python"
    },
    "accelerator": "GPU"
  },
  "cells": [
    {
      "cell_type": "code",
      "source": [
        "# 의존성 설치\n",
        "!pip install nltk\n",
        "\n",
        "import numpy as np\n",
        "from nltk.tokenize import word_tokenize\n",
        "import nltk\n",
        "\n",
        "# NLTK 데이터 다운로드\n",
        "nltk.download('punkt')\n",
        "nltk.download('punkt_tab')\n",
        "\n",
        "# 말뭉치 정의\n",
        "corpus = [\n",
        "    \"the quick brown fox jumps over the lazy dog\",\n",
        "    \"the lazy dog sleeps while the fox jumps\",\n",
        "    \"quick foxes climb steep hills\"\n",
        "]\n",
        "\n",
        "# 토큰화\n",
        "tokenized_corpus = [word_tokenize(s.lower()) for s in corpus]\n",
        "vocab = sorted(set(word for s in tokenized_corpus for word in s))\n",
        "word2idx = {word: idx for idx, word in enumerate(vocab)}\n",
        "\n",
        "# 가중치 동시출현 행렬 생성 함수\n",
        "def build_weighted_cooc_matrix(tokenized_corpus, vocab, window_size, weight_type):\n",
        "    cooc_matrix = np.zeros((len(vocab), len(vocab)))\n",
        "    for sentence in tokenized_corpus:\n",
        "        for i, word in enumerate(sentence):\n",
        "            for j in range(max(0, i - window_size), min(len(sentence), i + window_size + 1)):\n",
        "                if i != j:\n",
        "                    distance = abs(i - j)\n",
        "                    weight = 1 if weight_type == 'uniform' else 1/distance if weight_type == 'linear' else np.exp(-distance)\n",
        "                    cooc_matrix[word2idx[word]][word2idx[sentence[j]]] += weight\n",
        "    return cooc_matrix\n",
        "\n",
        "# 행렬 생성\n",
        "window_size = 3\n",
        "weight_types = ['uniform', 'linear', 'exponential']\n",
        "weighted_matrices = {}\n",
        "for wt in weight_types:\n",
        "    weighted_matrices[wt] = build_weighted_cooc_matrix(tokenized_corpus, vocab, window_size, wt)"
      ],
      "metadata": {
        "colab": {
          "base_uri": "https://localhost:8080/"
        },
        "id": "LkgwINtT7ndn",
        "outputId": "9e729dab-b9b6-4620-b402-a826b41c48d8"
      },
      "execution_count": 1,
      "outputs": [
        {
          "output_type": "stream",
          "name": "stdout",
          "text": [
            "Requirement already satisfied: nltk in /usr/local/lib/python3.11/dist-packages (3.9.1)\n",
            "Requirement already satisfied: click in /usr/local/lib/python3.11/dist-packages (from nltk) (8.1.8)\n",
            "Requirement already satisfied: joblib in /usr/local/lib/python3.11/dist-packages (from nltk) (1.4.2)\n",
            "Requirement already satisfied: regex>=2021.8.3 in /usr/local/lib/python3.11/dist-packages (from nltk) (2024.11.6)\n",
            "Requirement already satisfied: tqdm in /usr/local/lib/python3.11/dist-packages (from nltk) (4.67.1)\n"
          ]
        },
        {
          "output_type": "stream",
          "name": "stderr",
          "text": [
            "[nltk_data] Downloading package punkt to /root/nltk_data...\n",
            "[nltk_data]   Unzipping tokenizers/punkt.zip.\n",
            "[nltk_data] Downloading package punkt_tab to /root/nltk_data...\n",
            "[nltk_data]   Unzipping tokenizers/punkt_tab.zip.\n"
          ]
        }
      ]
    }
  ]
}